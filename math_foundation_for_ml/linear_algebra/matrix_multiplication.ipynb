{
 "cells": [
  {
   "cell_type": "code",
   "execution_count": 4,
   "id": "d3646537-309b-4bca-9212-f756356a9774",
   "metadata": {},
   "outputs": [],
   "source": [
    "import numpy as np"
   ]
  },
  {
   "cell_type": "code",
   "execution_count": 5,
   "id": "7d695cbe-fb65-492b-a267-8bc580be2ca7",
   "metadata": {
    "editable": true,
    "slideshow": {
     "slide_type": ""
    },
    "tags": []
   },
   "outputs": [],
   "source": [
    "# lets define a new matrix\n",
    "\n",
    "x = np.array([[1,2], [3,4]])\n",
    "y = np.array([[4,5], [8,3]])"
   ]
  },
  {
   "cell_type": "code",
   "execution_count": 6,
   "id": "906c3d58-8a4e-4816-b5fe-bd9846ce7b86",
   "metadata": {},
   "outputs": [
    {
     "data": {
      "text/plain": [
       "array([[20, 11],\n",
       "       [44, 27]])"
      ]
     },
     "execution_count": 6,
     "metadata": {},
     "output_type": "execute_result"
    }
   ],
   "source": [
    "np.dot(x, y)"
   ]
  },
  {
   "cell_type": "code",
   "execution_count": 7,
   "id": "a6048a0d-e533-4c71-a7c7-ca30fb422c19",
   "metadata": {},
   "outputs": [
    {
     "data": {
      "text/plain": [
       "array([[ -3,   5],\n",
       "       [ -9,  14],\n",
       "       [-15,  23]])"
      ]
     },
     "execution_count": 7,
     "metadata": {},
     "output_type": "execute_result"
    }
   ],
   "source": [
    "# matrix multiplication\n",
    "# to multiply 2 matrices the number of columns of the first matrix should be the same as the number of rows of the second\n",
    "\n",
    "x1 = np.array([[0,1,2], [3,4,5], [6,7,8]])\n",
    "x2 = np.array([[-1, 0], [1,1], [-2, 2]])\n",
    "\n",
    "np.dot(x1, x2)"
   ]
  },
  {
   "cell_type": "code",
   "execution_count": null,
   "id": "e87bb34c-5147-438f-9b51-23c5fb56faef",
   "metadata": {},
   "outputs": [],
   "source": []
  }
 ],
 "metadata": {
  "kernelspec": {
   "display_name": "Python 3 (ipykernel)",
   "language": "python",
   "name": "python3"
  },
  "language_info": {
   "codemirror_mode": {
    "name": "ipython",
    "version": 3
   },
   "file_extension": ".py",
   "mimetype": "text/x-python",
   "name": "python",
   "nbconvert_exporter": "python",
   "pygments_lexer": "ipython3",
   "version": "3.12.1"
  }
 },
 "nbformat": 4,
 "nbformat_minor": 5
}
