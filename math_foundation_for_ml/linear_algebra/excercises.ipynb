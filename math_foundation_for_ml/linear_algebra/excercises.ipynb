{
 "cells": [
  {
   "cell_type": "code",
   "execution_count": 2,
   "id": "51f82ee6-5234-4cc1-9c4e-784023c6cea5",
   "metadata": {},
   "outputs": [],
   "source": [
    "import numpy as np\n",
    "import torch as pt"
   ]
  },
  {
   "cell_type": "code",
   "execution_count": 3,
   "id": "149eb0a0-4081-4529-b214-e4c2d56eeabf",
   "metadata": {},
   "outputs": [],
   "source": [
    "x1 = np.array([[0,1,2],[3,4,5], [6,7,8]])\n",
    "x2 = np.array([[-1], [1], [-2]])"
   ]
  },
  {
   "cell_type": "code",
   "execution_count": 4,
   "id": "9050cb7e-8c25-40ab-bb3e-71770b3ecae5",
   "metadata": {},
   "outputs": [
    {
     "data": {
      "text/plain": [
       "tensor([[ -3],\n",
       "        [ -9],\n",
       "        [-15]])"
      ]
     },
     "execution_count": 4,
     "metadata": {},
     "output_type": "execute_result"
    }
   ],
   "source": [
    "pt.matmul(pt.tensor(x1), pt.tensor(x2))"
   ]
  },
  {
   "cell_type": "code",
   "execution_count": 6,
   "id": "1c6359f4-11df-446d-ba59-b016a9a49274",
   "metadata": {},
   "outputs": [
    {
     "data": {
      "text/plain": [
       "array([[-1],\n",
       "       [ 1],\n",
       "       [-2]])"
      ]
     },
     "execution_count": 6,
     "metadata": {},
     "output_type": "execute_result"
    }
   ],
   "source": [
    "id = np.array([[1,0,0], [0,1,0], [0,0,1]])\n",
    "np.dot(id, x2)"
   ]
  },
  {
   "cell_type": "code",
   "execution_count": 7,
   "id": "255d7064-15f0-4001-9706-162441577142",
   "metadata": {},
   "outputs": [
    {
     "data": {
      "text/plain": [
       "array([[ -3,   5],\n",
       "       [ -9,  14],\n",
       "       [-15,  23]])"
      ]
     },
     "execution_count": 7,
     "metadata": {},
     "output_type": "execute_result"
    }
   ],
   "source": [
    "x3 = np.array([[-1, 0], [1, 1], [-2, 2]])\n",
    "np.dot(x1, x3)"
   ]
  },
  {
   "cell_type": "code",
   "execution_count": null,
   "id": "a96bfd37-85c3-4297-9596-933dcfa61309",
   "metadata": {},
   "outputs": [],
   "source": []
  }
 ],
 "metadata": {
  "kernelspec": {
   "display_name": "Python 3 (ipykernel)",
   "language": "python",
   "name": "python3"
  },
  "language_info": {
   "codemirror_mode": {
    "name": "ipython",
    "version": 3
   },
   "file_extension": ".py",
   "mimetype": "text/x-python",
   "name": "python",
   "nbconvert_exporter": "python",
   "pygments_lexer": "ipython3",
   "version": "3.12.1"
  }
 },
 "nbformat": 4,
 "nbformat_minor": 5
}
